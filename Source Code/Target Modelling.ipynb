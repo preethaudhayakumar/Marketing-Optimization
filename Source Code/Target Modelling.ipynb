{
 "cells": [
  {
   "cell_type": "markdown",
   "id": "0081fe5a-c7ff-4f1e-a827-526b53f9998c",
   "metadata": {},
   "source": [
    "<br><br><br><br>\n",
    "<h4><b>Target Modelling to maximise the revenue</b></h4>\n",
    "<br><br>\n",
    "\n",
    "<pre>  \n",
    "<b>1. Environment setup-used</b>\n",
    "    \n",
    "      M1-Macbook\n",
    "<br>\n",
    "<b>2. Notebook Flow</b>\n",
    "    \n",
    "      <b>2.1 File read</b>\n",
    "    \n",
    "              a. Reading generated training data\n",
    "              b. Splitting of training data to X and Y\n",
    "    \n",
    "      <b>2.2 Exploration of Target Modelling to maximise the revenue </b>\n",
    "    \n",
    "              a. Pipeline {Train data + PCA + Linear Regression } --> To estimate revenue from Mutual_Fund\n",
    "              b. Pipeline {StandardScaler (Train data) + PCA + Lin Reg} --> To estimate revenue from Mutual_Fund\n",
    "              c. Pipeline {RobustScaled( Train data) + PCA + Lin Reg } --> To estimate revenue from Mutual_Fund\n",
    "\n",
    "              d. Pipeline {Train data + PCA + XGBoost Regressor } --> To estimate revenue from Mutual_Fund\n",
    "              e. Pipeline {StandardScaler(Training data) + PCA + XGBoost Reg} --> To estimate revenue from Mutual_Fund\n",
    "              f. Pipeline {RobustScaled( Training data) + PCA + XGBoost Reg} --> To estimate revenue from Mutual_Fund\n",
    "\n",
    "              g. Finalizing which aforementioned pipeline works best \n",
    "              \n",
    "              h. Finalized pipeline -----> To estimate revenue from Mutual_Fund\n",
    "              i. Finalized pipeline -----> To estimate revenue from Credit_Card\n",
    "              j. Finalized pipeline -----> To estimate revenue from Customer_Loan \n",
    "\n",
    "      <b>2.3 Takeaway</b>\n",
    "              a. Pipeline 5: {StandardScaler (Training data) + PCA + XGBoost Reg} performed better than other pipelines\n",
    "                 - It achieved MSE of ~24 on training data\n",
    "    \n",
    "      <b>2.4 Prediction (or) Inference </b>\n",
    "              a. Prepping Test datasets\n",
    "              b. Estimating revenue from Mutual fund, Credit Card, Consumer loan on test data set\n",
    "              c. Estimating total revenue ( from MF + CC + CL)\n",
    "      \n",
    "      <b>2.5 Which clients to be targeted for which offer</b>\n",
    "             Given Constraints\n",
    "             - Max 100 client\n",
    "             - Each client should receive only one offer\n",
    "              \n",
    "<br>\n",
    "</pre> "
   ]
  },
  {
   "cell_type": "code",
   "execution_count": 1,
   "id": "5dc19948-4e2b-4949-8b0a-92473e7471de",
   "metadata": {},
   "outputs": [],
   "source": [
    "import numpy as np\n",
    "import pandas as pd\n",
    "import os\n",
    "\n",
    "#----- Plotting & Visualization\n",
    "import matplotlib.pyplot as plt\n",
    "import seaborn as sb\n",
    "bold_s = '\\033[1m' #----- To print bold font\n",
    "bold_e = '\\033[0m'\n",
    "\n",
    "#----- Pre-Processing & Feature Engineering\n",
    "from Data_Analysis.utils import Preprocess, file_read\n",
    "from sklearn.preprocessing import StandardScaler, RobustScaler\n",
    "from sklearn.decomposition import PCA\n",
    "\n",
    "#----- Stats\n",
    "from scipy.stats import norm\n",
    "\n",
    "#----- Modelling\n",
    "from sklearn.linear_model import LinearRegression\n",
    "from xgboost import XGBRFRegressor\n",
    "\n",
    "#----- Evaluation Metric\n",
    "from sklearn.metrics import mean_squared_error\n"
   ]
  },
  {
   "cell_type": "markdown",
   "id": "36d73fc4-4a31-4699-94b4-6285030a2d44",
   "metadata": {},
   "source": [
    "<br><br><br>\n",
    "<h4><b>2.1 File Read</b></h4>\n",
    "<pre>\n",
    "              a. Reading generated training data\n",
    "              b. Splitting of training data to X and Y\n",
    "</pre>"
   ]
  },
  {
   "cell_type": "code",
   "execution_count": 2,
   "id": "4d57d362-6486-4993-b912-5ede2268fa31",
   "metadata": {},
   "outputs": [
    {
     "name": "stdout",
     "output_type": "stream",
     "text": [
      "\n",
      "\u001b[1m#----- Training dataset Shape: (949, 36)\u001b[0m\n"
     ]
    }
   ],
   "source": [
    "#----- a. Reading generated dataset\n",
    "train_data = pd.read_excel('./train_data.xlsx')\n",
    "\n",
    "print(f'\\n{bold_s}#----- Training dataset Shape: {train_data.shape}{bold_e}')"
   ]
  },
  {
   "cell_type": "code",
   "execution_count": 3,
   "id": "57ffd29a-bf0c-44ab-a524-653ad030f490",
   "metadata": {},
   "outputs": [
    {
     "name": "stdout",
     "output_type": "stream",
     "text": [
      "\n",
      "\u001b[1m#----- Training dataset X Shape: (949, 29)\u001b[0m\n",
      "\n",
      "\u001b[1m#----- Training dataset Y Shape: (949, 7)\u001b[0m\n"
     ]
    }
   ],
   "source": [
    "#----- b. Splitting of training data to X and Y\n",
    "target = ['Client', 'Sale_MF', 'Sale_CC', 'Sale_CL', 'Revenue_MF', 'Revenue_CC', 'Revenue_CL'  ]\n",
    "input_var = list(train_data.columns)[1:-6]\n",
    "\n",
    "train_y = train_data[target]\n",
    "train_x = train_data[input_var]\n",
    "\n",
    "print(f'\\n{bold_s}#----- Training dataset X Shape: {train_x.shape}{bold_e}')\n",
    "print(f'\\n{bold_s}#----- Training dataset Y Shape: {train_y.shape}{bold_e}')"
   ]
  },
  {
   "cell_type": "markdown",
   "id": "c9344b05-340d-4a04-8051-e57a425e2880",
   "metadata": {},
   "source": [
    "<br><br><br>\n",
    "<h4><b>2.1 Exploration of Propensing Modelling</b></h4>\n",
    "<pre>\n",
    "      \n",
    "    \n",
    "              a. Pipeline {Train data + PCA + Linear Regression } --> To estimate revenue from Mutual_Fund\n",
    "              b. Pipeline {StandardScaler (Train data) + PCA + Lin Reg} --> To estimate revenue from Mutual_Fund\n",
    "              c. Pipeline {RobustScaled( Train data) + PCA + Lin Reg } --> To estimate revenue from Mutual_Fund\n",
    "\n",
    "              d. Pipeline {Train data + PCA + XGBoost Regressor } --> To estimate revenue from Mutual_Fund\n",
    "              e. Pipeline {StandardScaler(Training data) + PCA + XGBoost Reg} --> To estimate revenue from Mutual_Fund\n",
    "              f. Pipeline {RobustScaled( Training data) + PCA + XGBoost Reg} --> To estimate revenue from Mutual_Fund\n",
    "\n",
    "              g. Finalizing which aforementioned pipeline works best \n",
    "              \n",
    "              h. Finalized pipeline -----> To estimate revenue from Mutual_Fund\n",
    "              i. Finalized pipeline -----> To estimate revenue from Credit_Card\n",
    "              j. Finalized pipeline -----> To estimate revenue from Customer_Loan \n",
    "\n",
    "</pre>"
   ]
  },
  {
   "cell_type": "code",
   "execution_count": 4,
   "id": "282cd3d9-9541-4db9-8d79-5e86cc1ef248",
   "metadata": {},
   "outputs": [],
   "source": [
    "#----- Prepping dataset\n",
    "#----- Applying Scalers\n",
    "\n",
    "#----- Standard scaler\n",
    "scaler_std = StandardScaler()\n",
    "scaled_std_data_x = scaler_std.fit_transform(train_x)\n",
    "\n",
    "#----- Robust scaler\n",
    "scaler_robust = RobustScaler()\n",
    "scaler_robust_data_x = scaler_robust.fit_transform(train_x)\n"
   ]
  },
  {
   "cell_type": "code",
   "execution_count": 5,
   "id": "417e7f13-3512-4110-a9d4-187a0995ec08",
   "metadata": {},
   "outputs": [
    {
     "name": "stdout",
     "output_type": "stream",
     "text": [
      "\n",
      "\u001b[1m#----- PCA on training data\u001b[0m\n",
      "(#training records, #pca components): (949, 4)\n",
      "\n",
      "\u001b[1m#----- PCA on StandardScaler applied training data\u001b[0m\n",
      "(#training records, #pca components): (949, 23)\n",
      "\n",
      "\u001b[1m#----- PCA on RobustScaler applied training data\u001b[0m\n",
      "(#training records, #pca components): (949, 2)\n",
      "\n",
      "\n",
      "\n",
      "\n"
     ]
    }
   ],
   "source": [
    "#----- Diemnsionality Reduction via PCA\n",
    "#----- For plain data\n",
    "pca = PCA(0.99) \n",
    "pca_data = pca.fit_transform(train_x)\n",
    "print(f'\\n{bold_s}#----- PCA on training data{bold_e}')\n",
    "print(f'(#training records, #pca components): {pca_data.shape}')\n",
    "\n",
    "#----- For Standar Scaler applied data\n",
    "pca_ss = PCA(0.99)\n",
    "pca_ss_data = pca_ss.fit_transform(scaled_std_data_x)\n",
    "print(f'\\n{bold_s}#----- PCA on StandardScaler applied training data{bold_e}')\n",
    "print(f'(#training records, #pca components): {pca_ss_data.shape}')\n",
    "\n",
    "\n",
    "#----- For Robust Scaler applied data\n",
    "pca_rs = PCA(0.99)\n",
    "pca_rs_data = pca.fit_transform(scaler_robust_data_x)\n",
    "print(f'\\n{bold_s}#----- PCA on RobustScaler applied training data{bold_e}')\n",
    "print(f'(#training records, #pca components): {pca_rs_data.shape}')\n",
    "print(f'\\n\\n\\n')"
   ]
  },
  {
   "cell_type": "code",
   "execution_count": 6,
   "id": "3500517c-f932-43dd-a77f-2e66287e99a8",
   "metadata": {},
   "outputs": [
    {
     "name": "stdout",
     "output_type": "stream",
     "text": [
      "\n",
      "\u001b[1m#----- Training data's accuracy score on Pipeline - 1 for MF purchases : 100.679\u001b[0m\n",
      "\n",
      "\u001b[1m#----- Training data's accuracy score on Pipeline - 2 for MF purchases : 98.842\u001b[0m\n",
      "\n",
      "\u001b[1m#----- Training data's accuracy score on Pipeline - 3 for MF purchases : 100.709\u001b[0m\n"
     ]
    }
   ],
   "source": [
    "#----- a. Pipeline {Train data + PCA + Linear Regression } --> To estimate revenue from Mutual_Fund \n",
    "#----- b. Pipeline {StandardScaler (Train data) + PCA + Lin Reg} --> To estimate revenue from Mutual_Fund \n",
    "#----- c. Pipeline {RobustScaled( Train data) + PCA + Lin Reg } --> To estimate revenue from Mutual_Fund \n",
    "\n",
    "pipeline_data = [pca_data, pca_ss_data, pca_rs_data]\n",
    "\n",
    "for ind,data in enumerate(pipeline_data):\n",
    "    #------ Modelling\n",
    "    pipeline = LinearRegression().fit(data, train_y['Revenue_MF'])\n",
    "    pipeline_pred = pipeline.predict(data)\n",
    "\n",
    "    #----- Training data evaluation\n",
    "    mse = mean_squared_error(train_y['Revenue_MF'],pipeline_pred )\n",
    "    print(f'\\n{bold_s}#----- Training data\\'s MSE on Pipeline - {ind +1} for MF purchases : {mse:.3f}{bold_e}')\n"
   ]
  },
  {
   "cell_type": "code",
   "execution_count": 7,
   "id": "d691155d-a9fb-4872-b4fb-a0026551b2e0",
   "metadata": {},
   "outputs": [
    {
     "name": "stdout",
     "output_type": "stream",
     "text": [
      "\n",
      "\u001b[1m#----- Training data's accuracy score on Pipeline - 1 for MF purchases : 32.538\u001b[0m\n",
      "\n",
      "\u001b[1m#----- Training data's accuracy score on Pipeline - 2 for MF purchases : 24.192\u001b[0m\n",
      "\n",
      "\u001b[1m#----- Training data's accuracy score on Pipeline - 3 for MF purchases : 91.058\u001b[0m\n"
     ]
    }
   ],
   "source": [
    "#----- d. Pipeline {Train data + PCA + XGBoost } --> To estimate likelihood of MF sale\n",
    "#----- e. Pipeline {StandardScaled(Training data) + PCA + XGBoost} --> To estimate likelihood of MF sale\n",
    "#------ f. Pipeline {RobustScaled( Training data) + PCA + XGBoost} --> To estimate likelihood of MF sale\n",
    "\n",
    "pipeline_data = [pca_data, pca_ss_data, pca_rs_data]\n",
    "\n",
    "for ind,data in enumerate(pipeline_data):\n",
    "    #------ Modelling\n",
    "    pipeline = XGBRFRegressor(min_child_weight = 1).fit(data, train_y['Revenue_MF'])\n",
    "    pipeline_pred = pipeline.predict(data)\n",
    "    \n",
    "    #----- Training data evaluation\n",
    "    mse = mean_squared_error(train_y['Revenue_MF'],pipeline_pred )\n",
    "    print(f'\\n{bold_s}#----- Training data\\'s MSE on Pipeline - {ind +1} for MF purchases : {mse:.3f}{bold_e}')\n"
   ]
  },
  {
   "cell_type": "markdown",
   "id": "de324529-4491-4566-b4a7-eccd900d147b",
   "metadata": {},
   "source": [
    "<br><br><br>\n",
    "<pre>\n",
    "<b>#-----  g. Finalizing which aforementioned pipeline works best for Mutual fund purchases\n",
    "</b>\n",
    "    From the above confusion matrix Pipeline 5: Standard Scalar ( Training data ) + PCA + XGBoost Regressor works the best\n",
    "</pre><br><br><br>"
   ]
  },
  {
   "cell_type": "code",
   "execution_count": 10,
   "id": "a252353d-bd64-42ad-a779-e4d10581547d",
   "metadata": {},
   "outputs": [
    {
     "name": "stdout",
     "output_type": "stream",
     "text": [
      "\n",
      "\u001b[1m#----- Training data's MSE on finalized pipeline of Mutual fund : 24.192\u001b[0m\n"
     ]
    }
   ],
   "source": [
    "#----- h. Finalized pipeline -----> To estimate the revenue of MF \n",
    "\n",
    "#------ Modelling\n",
    "fin_pipeline_MF = XGBRFRegressor(min_child_weight = 1).fit(pca_ss_data, train_y['Revenue_MF'])\n",
    "pipeline_pred = fin_pipeline_MF.predict(pca_ss_data)\n",
    "    \n",
    "#----- Training data evaluation\n",
    "mse = mean_squared_error(train_y['Revenue_MF'],pipeline_pred )\n",
    "print(f'\\n{bold_s}#----- Training data\\'s MSE on finalized pipeline of Mutual fund : {mse:.3f}{bold_e}')"
   ]
  },
  {
   "cell_type": "code",
   "execution_count": 11,
   "id": "119edc35-2078-41c7-93f8-58200aaed62e",
   "metadata": {},
   "outputs": [
    {
     "name": "stdout",
     "output_type": "stream",
     "text": [
      "\n",
      "\u001b[1m#----- Training data's MSE on finalized pipeline of Credit card : 28.395\u001b[0m\n"
     ]
    }
   ],
   "source": [
    "#----- i. Finalized pipeline -----> To estimate the revenue of CC\n",
    "\n",
    "#------ Modelling\n",
    "fin_pipeline_CC = XGBRFRegressor(min_child_weight = 1).fit(pca_ss_data, train_y['Revenue_CC'])\n",
    "pipeline_pred = fin_pipeline_CC.predict(pca_ss_data)\n",
    "    \n",
    "#----- Training data evaluation\n",
    "mse = mean_squared_error(train_y['Revenue_CC'],pipeline_pred )\n",
    "print(f'\\n{bold_s}#----- Training data\\'s MSE on finalized pipeline of Credit card : {mse:.3f}{bold_e}')"
   ]
  },
  {
   "cell_type": "code",
   "execution_count": 12,
   "id": "8f50e008-6d94-4de6-a97c-43805c6e1e2f",
   "metadata": {},
   "outputs": [
    {
     "name": "stdout",
     "output_type": "stream",
     "text": [
      "\n",
      "\u001b[1m#----- Training data's MSE on finalized pipeline of Consumer Loan : 24.769\u001b[0m\n"
     ]
    }
   ],
   "source": [
    "#----- j. Finalized pipeline -----> To estimate the revenue of CL\n",
    "\n",
    "#------ Modelling\n",
    "fin_pipeline_CL = XGBRFRegressor(min_child_weight = 1).fit(pca_ss_data, train_y['Revenue_CL'])\n",
    "pipeline_pred = fin_pipeline_CL.predict(pca_ss_data)\n",
    "    \n",
    "#----- Training data evaluation\n",
    "mse = mean_squared_error(train_y['Revenue_CL'],pipeline_pred )\n",
    "print(f'\\n{bold_s}#----- Training data\\'s MSE on finalized pipeline of Consumer Loan : {mse:.3f}{bold_e}')"
   ]
  },
  {
   "cell_type": "markdown",
   "id": "fd66017c-5e53-4569-b910-1865b23ee922",
   "metadata": {},
   "source": [
    "<br><br><br>\n",
    "<h4><b>2.4 Prediction (or) Inference</b></h4>\n",
    "<pre>\n",
    "                  a. Prepping Test datasets\n",
    "                  b. Estimating revenue from Mutual fund, Credit Card, Consumer loan on test data set\n",
    "                  c. Estimating total revenue ( from MF + CC + CL)\n",
    "</pre>"
   ]
  },
  {
   "cell_type": "code",
   "execution_count": 39,
   "id": "0c5105f4-6c39-44b6-9843-e4e173637fd8",
   "metadata": {},
   "outputs": [
    {
     "name": "stdout",
     "output_type": "stream",
     "text": [
      "\n",
      "\u001b[1m#----- Testing dataset X Shape: (635, 29)\u001b[0m\n"
     ]
    }
   ],
   "source": [
    "#----- a. Prepping test dataaset\n",
    "\n",
    "test_data = pd.read_excel('./test_data.xlsx')\n",
    "\n",
    "#-----  Removing Client from test data\n",
    "client_list = list(test_data['Client'])\n",
    "test_x = test_data.drop(columns = 'Client', axis = 'columns' )\n",
    "\n",
    "print(f'\\n{bold_s}#----- Testing dataset X Shape: {test_x.shape}{bold_e}')\n"
   ]
  },
  {
   "cell_type": "code",
   "execution_count": 14,
   "id": "d5a13b03-d120-43f9-b5a4-ebd2dfcf7314",
   "metadata": {},
   "outputs": [
    {
     "name": "stdout",
     "output_type": "stream",
     "text": [
      "\n",
      "\u001b[1m#----- PCA on StandardScaler applied test data\u001b[0m\n",
      "(#training records, #pca components): (635, 23)\n"
     ]
    }
   ],
   "source": [
    "#-----  Applying finalised pipeline onto the testdata\n",
    "scaled_std_data_test_x = scaler_std.transform(test_x)\n",
    "\n",
    "pca_ss_data_test_x = pca_ss.transform(scaled_std_data_test_x)\n",
    "\n",
    "print(f'\\n{bold_s}#----- PCA on StandardScaler applied test data{bold_e}')\n",
    "print(f'(#training records, #pca components): {pca_ss_data_test_x.shape}')"
   ]
  },
  {
   "cell_type": "code",
   "execution_count": 24,
   "id": "594d90ae-e32f-4fb6-a3c1-fecf52eb1c08",
   "metadata": {},
   "outputs": [
    {
     "name": "stdout",
     "output_type": "stream",
     "text": [
      "\n",
      "\u001b[1m#----- Estimated total revenue from MF : 1444.394287109375\u001b[0m\n",
      "\n",
      "\u001b[1m#----- Estimated total revenue from CC : 1910.623291015625 \u001b[0m\n",
      "\n",
      "\u001b[1m#----- Estimated total revenue form CL : 2380.324951171875 \u001b[0m\n",
      "\n",
      "\n"
     ]
    }
   ],
   "source": [
    "#----- b. Estimating revenue from Mutual fund, Credit Card, Consumer loan on test data set\n",
    "\n",
    "#----- Prediction for MF purchase \n",
    "predicted_test_MF = fin_pipeline_MF.predict(pca_ss_data_test_x)\n",
    "print(f'\\n{bold_s}#----- Estimated total revenue from MF : {predicted_test_MF.sum()}{bold_e}')\n",
    "\n",
    "#----- Prediction for CC purchase \n",
    "predicted_test_CC = fin_pipeline_CC.predict(pca_ss_data_test_x) \n",
    "print(f'\\n{bold_s}#----- Estimated total revenue from CC : {predicted_test_CC.sum()} {bold_e}')\n",
    "\n",
    "#----- Prediction for CL purchase \n",
    "predicted_test_CL = fin_pipeline_CL.predict(pca_ss_data_test_x)\n",
    "print(f'\\n{bold_s}#----- Estimated total revenue form CL : {predicted_test_CL.sum()} {bold_e}\\n\\n')\n",
    "\n"
   ]
  },
  {
   "cell_type": "code",
   "execution_count": 23,
   "id": "6732b610-3003-4dec-8971-6510daa2a964",
   "metadata": {},
   "outputs": [
    {
     "name": "stdout",
     "output_type": "stream",
     "text": [
      "\n",
      "\u001b[1m#----- Estimated total revenue (from MF + CC + CL) :5735.3427734375 \u001b[0m\n"
     ]
    }
   ],
   "source": [
    "#----- c. Estimating total revenue ( from MF + CC + CL)\n",
    "\n",
    "#----- Predicted total revenue\n",
    "total_revenue = predicted_test_MF.sum() + predicted_test_CC.sum() + predicted_test_CL.sum()\n",
    "print(f'\\n{bold_s}#----- Estimated total revenue (from MF + CC + CL) :{total_revenue} {bold_e}')"
   ]
  },
  {
   "cell_type": "markdown",
   "id": "055fbd3d-7722-4173-ad71-ca3d729e064c",
   "metadata": {},
   "source": [
    "<br><br><br>\n",
    "<h4><b>2.5 Which clients to be targeted for which offer</b></h4>\n",
    "<pre>\n",
    "\n",
    "             Given Constraints\n",
    "             - Max 100 client\n",
    "             - Each client should receive only one offer\n",
    "\n",
    "</pre>\n",
    "              "
   ]
  },
  {
   "cell_type": "code",
   "execution_count": 48,
   "id": "f3ca5b9b-f961-40fb-a6e0-aa2344b528dd",
   "metadata": {},
   "outputs": [
    {
     "data": {
      "text/html": [
       "<div>\n",
       "<style scoped>\n",
       "    .dataframe tbody tr th:only-of-type {\n",
       "        vertical-align: middle;\n",
       "    }\n",
       "\n",
       "    .dataframe tbody tr th {\n",
       "        vertical-align: top;\n",
       "    }\n",
       "\n",
       "    .dataframe thead th {\n",
       "        text-align: right;\n",
       "    }\n",
       "</style>\n",
       "<table border=\"1\" class=\"dataframe\">\n",
       "  <thead>\n",
       "    <tr style=\"text-align: right;\">\n",
       "      <th></th>\n",
       "      <th>Client</th>\n",
       "      <th>variable</th>\n",
       "      <th>Revenue</th>\n",
       "    </tr>\n",
       "  </thead>\n",
       "  <tbody>\n",
       "    <tr>\n",
       "      <th>1178</th>\n",
       "      <td>1349</td>\n",
       "      <td>Revenue_CC</td>\n",
       "      <td>111.645798</td>\n",
       "    </tr>\n",
       "    <tr>\n",
       "      <th>1114</th>\n",
       "      <td>32</td>\n",
       "      <td>Revenue_CC</td>\n",
       "      <td>104.307976</td>\n",
       "    </tr>\n",
       "    <tr>\n",
       "      <th>831</th>\n",
       "      <td>748</td>\n",
       "      <td>Revenue_CC</td>\n",
       "      <td>95.975700</td>\n",
       "    </tr>\n",
       "    <tr>\n",
       "      <th>1007</th>\n",
       "      <td>467</td>\n",
       "      <td>Revenue_CC</td>\n",
       "      <td>87.140228</td>\n",
       "    </tr>\n",
       "    <tr>\n",
       "      <th>531</th>\n",
       "      <td>786</td>\n",
       "      <td>Revenue_MF</td>\n",
       "      <td>84.769348</td>\n",
       "    </tr>\n",
       "  </tbody>\n",
       "</table>\n",
       "</div>"
      ],
      "text/plain": [
       "      Client    variable     Revenue\n",
       "1178    1349  Revenue_CC  111.645798\n",
       "1114      32  Revenue_CC  104.307976\n",
       "831      748  Revenue_CC   95.975700\n",
       "1007     467  Revenue_CC   87.140228\n",
       "531      786  Revenue_MF   84.769348"
      ]
     },
     "metadata": {},
     "output_type": "display_data"
    }
   ],
   "source": [
    "target = pd.DataFrame(columns = ['Client', 'Revenue_MF', 'Revenue_CC', 'Revenue_CL' ])\n",
    "\n",
    "target['Client'] = client_list\n",
    "target['Revenue_MF'] = predicted_test_MF\n",
    "target['Revenue_CC'] = predicted_test_CC\n",
    "target['Revenue_CL'] = predicted_test_CL\n",
    "\n",
    "target =  pd.melt(target,\n",
    "                            id_vars='Client',\n",
    "                            value_vars=['Revenue_MF', 'Revenue_CC', 'Revenue_CL'],\n",
    "                            value_name='Revenue')\n",
    "\n",
    "#----- Sort client based on Revenue\n",
    "optimized = target.sort_values(by = ['Revenue'], ascending= [False])\n",
    "\n",
    "#----- Drop duplicates on 'Client_ID' keeping the highest Revenue         #------- To satisfy constraint 1\n",
    "optimized.drop_duplicates(subset='Client', keep='first',inplace= True)\n",
    "\n",
    "#----- Select top 100 (in case there are more than 100 unique Client_IDs)  #------- To satisfy constraint 1\n",
    "display(optimized.head(5))\n",
    "\n",
    "optimized.to_excel('./Target_client_target_offer.xlsx', index = 'ignore')"
   ]
  },
  {
   "cell_type": "code",
   "execution_count": null,
   "id": "c94feabc-b548-4c62-8377-84bdbe7339f4",
   "metadata": {},
   "outputs": [],
   "source": []
  }
 ],
 "metadata": {
  "kernelspec": {
   "display_name": "Python 3 (ipykernel)",
   "language": "python",
   "name": "python3"
  },
  "language_info": {
   "codemirror_mode": {
    "name": "ipython",
    "version": 3
   },
   "file_extension": ".py",
   "mimetype": "text/x-python",
   "name": "python",
   "nbconvert_exporter": "python",
   "pygments_lexer": "ipython3",
   "version": "3.9.18"
  }
 },
 "nbformat": 4,
 "nbformat_minor": 5
}
