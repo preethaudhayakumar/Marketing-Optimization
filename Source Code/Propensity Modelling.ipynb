{
 "cells": [
  {
   "cell_type": "markdown",
   "id": "0081fe5a-c7ff-4f1e-a827-526b53f9998c",
   "metadata": {},
   "source": [
    "<br><br><br><br>\n",
    "<h4><b>Propensity Modelling</b></h4>\n",
    "<br><br>\n",
    "\n",
    "<pre>  \n",
    "<b>1. Environment setup-used</b>\n",
    "    \n",
    "      M1-Macbook\n",
    "<br>\n",
    "<b>2. Notebook Flow</b>\n",
    "    \n",
    "      <b>2.1 File read</b>\n",
    "    \n",
    "              a. Reading generated training data\n",
    "              b. Splitting of training data to X and Y\n",
    "    \n",
    "      <b>2.2 Exploration of Propensing Modelling</b>\n",
    "    \n",
    "              a. Pipeline {Train data + PCA + Logistic Regression } --> To estimate likelihood of Mutual_Fund sale\n",
    "              b. Pipeline {StandardScaler (Train data) + PCA + Log Reg} --> To estimate likelihood of Mutual_Fund sale\n",
    "              c. Pipeline {RobustScaled( Train data) + PCA + Log Reg } --> To estimate likelihood of Mutual_Fund sale\n",
    "\n",
    "              d. Pipeline {Train data + PCA + XGBoost } --> To estimate likelihood of Mutual_Fund sale\n",
    "              e. Pipeline {StandardScaler(Training data) + PCA + XGBoost} --> To estimate likelihood of Mutual_Fund sale\n",
    "              f. Pipeline {RobustScaled( Training data) + PCA + XGBoost} --> To estimate likelihood of Mutual_Fund sale\n",
    "\n",
    "              g. Finalizing which aforementioned pipeline works best\n",
    "              \n",
    "              h. Finalized pipeline -----> To estimate the likelihood of Mutual_Fund purchases\n",
    "              i. Finalized pipeline -----> To estimate the likelihood of Credit_Card purchases \n",
    "              j. Finalized pipeline -----> To estimate the likelihood of Customer_Loan purchases \n",
    "\n",
    "      <b>2.3 Observation & Further exploration </b>\n",
    "              a. Pipeline 5: {StandardScaler (Training data) + PCA + XGBoost } performed better than other pipelines\n",
    "                 - It achieved accuracy ~100% on training data\n",
    "                 - Precision & Recall also close to ~100 as it can be seen in Confusion matrix ( of training data)\n",
    "              \n",
    "              b. To avoid overfitting, directions like,\n",
    "                 - adding more training data,\n",
    "                 - adding L1, L2 regularization can be explored.\n",
    "    \n",
    "      <b>2.4 Prediction (or) Inference </b>\n",
    "              a. Prepping Test datasets\n",
    "              b. Predicting likelihood for buying Mutual Fund, Credit Card, Consumer loan on test data set\n",
    "              c. Saving (or) Listing Client_IDs whom have higher likelihood to buy MF, CC, CL\n",
    "              \n",
    "<br>\n",
    "</pre>"
   ]
  },
  {
   "cell_type": "code",
   "execution_count": 1,
   "id": "5dc19948-4e2b-4949-8b0a-92473e7471de",
   "metadata": {},
   "outputs": [],
   "source": [
    "import numpy as np\n",
    "import pandas as pd\n",
    "import os\n",
    "\n",
    "#----- Plotting & Visualization\n",
    "import matplotlib.pyplot as plt\n",
    "import seaborn as sb\n",
    "bold_s = '\\033[1m' #----- To print bold font\n",
    "bold_e = '\\033[0m'\n",
    "\n",
    "#----- Pre-Processing & Feature Engineering\n",
    "from Data_Analysis.utils import Preprocess, file_read\n",
    "from sklearn.preprocessing import StandardScaler, RobustScaler\n",
    "from sklearn.decomposition import PCA\n",
    "\n",
    "#----- Stats\n",
    "from scipy.stats import norm\n",
    "\n",
    "#----- Modelling\n",
    "from sklearn.linear_model import LogisticRegression\n",
    "from sklearn.ensemble import AdaBoostClassifier\n",
    "from xgboost import XGBClassifier\n",
    "\n",
    "#----- Evaluation Metric\n",
    "from sklearn.metrics import f1_score, accuracy_score, confusion_matrix\n"
   ]
  },
  {
   "cell_type": "markdown",
   "id": "36d73fc4-4a31-4699-94b4-6285030a2d44",
   "metadata": {},
   "source": [
    "<br><br><br>\n",
    "<h4><b>2.1 File Read</b></h4>\n",
    "<pre>\n",
    "              a. Reading generated training data\n",
    "              b. Splitting of training data to X and Y\n",
    "</pre>"
   ]
  },
  {
   "cell_type": "code",
   "execution_count": 2,
   "id": "4d57d362-6486-4993-b912-5ede2268fa31",
   "metadata": {},
   "outputs": [
    {
     "name": "stdout",
     "output_type": "stream",
     "text": [
      "\n",
      "\u001b[1m#----- Training dataset Shape: (949, 36)\u001b[0m\n"
     ]
    }
   ],
   "source": [
    "#----- a. Reading generated dataset\n",
    "train_data = pd.read_excel('./train_data.xlsx')\n",
    "\n",
    "print(f'\\n{bold_s}#----- Training dataset Shape: {train_data.shape}{bold_e}')"
   ]
  },
  {
   "cell_type": "code",
   "execution_count": 3,
   "id": "57ffd29a-bf0c-44ab-a524-653ad030f490",
   "metadata": {},
   "outputs": [
    {
     "name": "stdout",
     "output_type": "stream",
     "text": [
      "\n",
      "\u001b[1m#----- Training dataset X Shape: (949, 29)\u001b[0m\n",
      "\n",
      "\u001b[1m#----- Training dataset Y Shape: (949, 7)\u001b[0m\n"
     ]
    }
   ],
   "source": [
    "#----- b. Splitting of training data to X and Y\n",
    "target = ['Client', 'Sale_MF', 'Sale_CC', 'Sale_CL', 'Revenue_MF', 'Revenue_CC', 'Revenue_CL'  ]\n",
    "input_var = list(train_data.columns)[1:-6]\n",
    "\n",
    "train_y = train_data[target]\n",
    "train_x = train_data[input_var]\n",
    "\n",
    "print(f'\\n{bold_s}#----- Training dataset X Shape: {train_x.shape}{bold_e}')\n",
    "print(f'\\n{bold_s}#----- Training dataset Y Shape: {train_y.shape}{bold_e}')"
   ]
  },
  {
   "cell_type": "markdown",
   "id": "c9344b05-340d-4a04-8051-e57a425e2880",
   "metadata": {},
   "source": [
    "<br><br><br>\n",
    "<h4><b>2.1 Exploration of Propensing Modelling</b></h4>\n",
    "<pre>\n",
    "      \n",
    "              a. Pipeline {Train data + PCA + Logistic Regression } --> To estimate likelihood of Mutual fund sale\n",
    "              b. Pipeline {StandardScaled (Train data) + PCA + Log Reg} --> To estimate likelihood of Mutual fund sale\n",
    "              c. Pipeline {RobustScaled( Train data) + PCA + Log Reg } --> To estimate likelihood of Mutual fund sale\n",
    "\n",
    "              d. Pipeline {Train data + PCA + XGBoost } --> To estimate likelihood of Mutual fund sale\n",
    "              e. Pipeline {StandardScaled(Training data) + PCA + XGBoost} --> To estimate likelihood of Mutual fund sale\n",
    "              f. Pipeline {RobustScaled( Training data) + PCA + XGBoost} --> To estimate likelihood of Mutual fund sale\n",
    "\n",
    "              g. Finalizing which aforementioned pipeline works best\n",
    "              \n",
    "              h. Finalized pipeline -----> To estimate the likelihood of Mutual fund purchases\n",
    "              h. Finalized pipeline -----> To estimate the likelihood of Credit card purchases\n",
    "              j. Finalized pipeline -----> estimating the likelihood of Consumer loan purchases \n",
    "\n",
    "</pre>"
   ]
  },
  {
   "cell_type": "code",
   "execution_count": 4,
   "id": "282cd3d9-9541-4db9-8d79-5e86cc1ef248",
   "metadata": {},
   "outputs": [],
   "source": [
    "#----- Prepping dataset\n",
    "#----- Applying Scalers\n",
    "\n",
    "#----- Standard scaler\n",
    "scaler_std = StandardScaler()\n",
    "scaled_std_data_x = scaler_std.fit_transform(train_x)\n",
    "\n",
    "#----- Robust scaler\n",
    "scaler_robust = RobustScaler()\n",
    "scaler_robust_data_x = scaler_robust.fit_transform(train_x)\n"
   ]
  },
  {
   "cell_type": "code",
   "execution_count": 5,
   "id": "417e7f13-3512-4110-a9d4-187a0995ec08",
   "metadata": {},
   "outputs": [
    {
     "name": "stdout",
     "output_type": "stream",
     "text": [
      "\n",
      "\u001b[1m#----- PCA on training data\u001b[0m\n",
      "(#training records, #pca components): (949, 4)\n",
      "\n",
      "\u001b[1m#----- PCA on StandardScaler applied training data\u001b[0m\n",
      "(#training records, #pca components): (949, 23)\n",
      "\n",
      "\u001b[1m#----- PCA on RobustScaler applied training data\u001b[0m\n",
      "(#training records, #pca components): (949, 2)\n",
      "\n",
      "\n",
      "\n",
      "\n"
     ]
    }
   ],
   "source": [
    "#----- Diemnsionality Reduction via PCA\n",
    "#----- For plain data\n",
    "pca = PCA(0.99) \n",
    "pca_data = pca.fit_transform(train_x)\n",
    "print(f'\\n{bold_s}#----- PCA on training data{bold_e}')\n",
    "print(f'(#training records, #pca components): {pca_data.shape}')\n",
    "\n",
    "#----- For Standar Scaler applied data\n",
    "pca_ss = PCA(0.99)\n",
    "pca_ss_data = pca_ss.fit_transform(scaled_std_data_x)\n",
    "print(f'\\n{bold_s}#----- PCA on StandardScaler applied training data{bold_e}')\n",
    "print(f'(#training records, #pca components): {pca_ss_data.shape}')\n",
    "\n",
    "\n",
    "#----- For Robust Scaler applied data\n",
    "pca_rs = PCA(0.99)\n",
    "pca_rs_data = pca.fit_transform(scaler_robust_data_x)\n",
    "print(f'\\n{bold_s}#----- PCA on RobustScaler applied training data{bold_e}')\n",
    "print(f'(#training records, #pca components): {pca_rs_data.shape}')\n",
    "print(f'\\n\\n\\n')"
   ]
  },
  {
   "cell_type": "code",
   "execution_count": 6,
   "id": "3500517c-f932-43dd-a77f-2e66287e99a8",
   "metadata": {},
   "outputs": [
    {
     "name": "stdout",
     "output_type": "stream",
     "text": [
      "\n",
      "\u001b[1m#----- Training data's accuracy score on Pipeline - 1 for MF purchases : 0.797\u001b[0m\n",
      "\u001b[1m#----- Training data's confusion matrix\u001b[0m\n"
     ]
    },
    {
     "data": {
      "image/png": "[encoded data removed]",
      "text/plain": [
       "<Figure size 300x200 with 2 Axes>"
      ]
     },
     "metadata": {},
     "output_type": "display_data"
    },
    {
     "name": "stdout",
     "output_type": "stream",
     "text": [
      "\n",
      "\u001b[1m#----- Training data's accuracy score on Pipeline - 2 for MF purchases : 0.810\u001b[0m\n",
      "\u001b[1m#----- Training data's confusion matrix\u001b[0m\n"
     ]
    },
    {
     "data": {
      "image/png": "[encoded data removed]",
      "text/plain": [
       "<Figure size 300x200 with 2 Axes>"
      ]
     },
     "metadata": {},
     "output_type": "display_data"
    },
    {
     "name": "stdout",
     "output_type": "stream",
     "text": [
      "\n",
      "\u001b[1m#----- Training data's accuracy score on Pipeline - 3 for MF purchases : 0.797\u001b[0m\n",
      "\u001b[1m#----- Training data's confusion matrix\u001b[0m\n"
     ]
    },
    {
     "data": {
      "image/png": "[encoded data removed]",
      "text/plain": [
       "<Figure size 300x200 with 2 Axes>"
      ]
     },
     "metadata": {},
     "output_type": "display_data"
    }
   ],
   "source": [
    "#----- a. Pipeline {Train data + PCA + Logistic Regression } --> To estimate likelihood of MF sale\n",
    "#----- b. Pipeline {StandardScaled (Train data) + PCA + Log Reg} --> To estimate likelihood of MF sale\n",
    "#----- c. Pipeline {RobustScaled( Train data) + PCA + Log Reg } --> To estimate likelihood of MF sale\n",
    "\n",
    "pipeline_data = [pca_data, pca_ss_data, pca_rs_data]\n",
    "\n",
    "for ind,data in enumerate(pipeline_data):\n",
    "    #------ Modelling\n",
    "    pipeline = LogisticRegression().fit(data, train_y['Sale_MF'])\n",
    "    pipeline_pred = pipeline.predict(data)\n",
    "\n",
    "    #----- Calculating accuracy score for training data\n",
    "    accuracy = pipeline.score(data , train_y['Sale_MF']) \n",
    "    print(f'\\n{bold_s}#----- Training data\\'s accuracy score on Pipeline - {ind +1} for MF purchases : {accuracy:.3f}{bold_e}')\n",
    "\n",
    "    #----- Evaluation\n",
    "    plt.figure(figsize= (3,2))\n",
    "    print(f'{bold_s}#----- Training data\\'s confusion matrix{bold_e}')\n",
    "    sb.heatmap(confusion_matrix(train_y['Sale_MF'], pipeline_pred), annot=True) \n",
    "    plt.show()"
   ]
  },
  {
   "cell_type": "code",
   "execution_count": 7,
   "id": "d691155d-a9fb-4872-b4fb-a0026551b2e0",
   "metadata": {},
   "outputs": [
    {
     "name": "stdout",
     "output_type": "stream",
     "text": [
      "\n",
      "\u001b[1m#----- Training data's accuracy score for Pipeline - 4 for MF purchases : 0.966\u001b[0m\n",
      "\u001b[1m#----- Training data's Confusion matrix\u001b[0m\n"
     ]
    },
    {
     "data": {
      "image/png": "[encoded data removed]",
      "text/plain": [
       "<Figure size 300x200 with 2 Axes>"
      ]
     },
     "metadata": {},
     "output_type": "display_data"
    },
    {
     "name": "stdout",
     "output_type": "stream",
     "text": [
      "\n",
      "\u001b[1m#----- Training data's accuracy score for Pipeline - 5 for MF purchases : 1.000\u001b[0m\n",
      "\u001b[1m#----- Training data's Confusion matrix\u001b[0m\n"
     ]
    },
    {
     "data": {
      "image/png": "[encoded data removed]",
      "text/plain": [
       "<Figure size 300x200 with 2 Axes>"
      ]
     },
     "metadata": {},
     "output_type": "display_data"
    },
    {
     "name": "stdout",
     "output_type": "stream",
     "text": [
      "\n",
      "\u001b[1m#----- Training data's accuracy score for Pipeline - 6 for MF purchases : 0.832\u001b[0m\n",
      "\u001b[1m#----- Training data's Confusion matrix\u001b[0m\n"
     ]
    },
    {
     "data": {
      "image/png": "[encoded data removed]",
      "text/plain": [
       "<Figure size 300x200 with 2 Axes>"
      ]
     },
     "metadata": {},
     "output_type": "display_data"
    }
   ],
   "source": [
    "#----- d. Pipeline {Train data + PCA + XGBoost } --> To estimate likelihood of MF sale\n",
    "#----- e. Pipeline {StandardScaled(Training data) + PCA + XGBoost} --> To estimate likelihood of MF sale\n",
    "#------ f. Pipeline {RobustScaled( Training data) + PCA + XGBoost} --> To estimate likelihood of MF sale\n",
    "\n",
    "pipeline_data = [pca_data, pca_ss_data, pca_rs_data]\n",
    "\n",
    "for ind,data in enumerate(pipeline_data):\n",
    "    #------ Modelling\n",
    "    pipeline = XGBClassifier(min_child_weight = 2).fit(data, train_y['Sale_MF'])\n",
    "    pipeline_pred = pipeline.predict(data)\n",
    "\n",
    "    #----- Calculating accuracy score for training data\n",
    "    accuracy = pipeline.score(data , train_y['Sale_MF']) \n",
    "    print(f'\\n{bold_s}#----- Training data\\'s accuracy score for Pipeline - {ind + 4} for MF purchases : {accuracy:.3f}{bold_e}')\n",
    "\n",
    "    #----- Evaluation\n",
    "    plt.figure(figsize= (3,2))\n",
    "    print(f'{bold_s}#----- Training data\\'s Confusion matrix{bold_e}')\n",
    "    sb.heatmap(confusion_matrix(train_y['Sale_MF'], pipeline_pred), annot=True) \n",
    "    plt.show()"
   ]
  },
  {
   "cell_type": "markdown",
   "id": "de324529-4491-4566-b4a7-eccd900d147b",
   "metadata": {},
   "source": [
    "<br><br><br>\n",
    "<pre>\n",
    "<b>#-----  g. Finalizing which aforementioned pipeline works best for Mutual fund purchases\n",
    "</b>\n",
    "    From the above confusion matrix Pipeline 5: Standard Scalar ( Training data ) + PCA + XGBoot works the best\n",
    "</pre><br><br><br>"
   ]
  },
  {
   "cell_type": "code",
   "execution_count": 8,
   "id": "3d517eca-22b1-4aa7-a24d-3da87f898eff",
   "metadata": {},
   "outputs": [
    {
     "name": "stdout",
     "output_type": "stream",
     "text": [
      "\n",
      "\u001b[1m#----- Training data's accuracy score on finalized pipeline fo MF Purchases: 1.000\u001b[0m\n",
      "\u001b[1m#----- Training data's Confusion matrix\u001b[0m\n"
     ]
    },
    {
     "data": {
      "image/png": "[encoded data removed]",
      "text/plain": [
       "<Figure size 300x200 with 2 Axes>"
      ]
     },
     "metadata": {},
     "output_type": "display_data"
    }
   ],
   "source": [
    "#----- h. Finalized pipeline -----> To estimate the likelihood of MF purchases\n",
    "\n",
    "fin_pipeline_MF = XGBClassifier(min_child_weight = 2).fit(pca_ss_data, train_y['Sale_MF'])\n",
    "pipeline_pred = fin_pipeline_MF.predict(pca_ss_data)\n",
    "\n",
    "#----- Calculating accuracy score for training data\n",
    "accuracy = fin_pipeline_MF.score(pca_ss_data , train_y['Sale_MF']) \n",
    "print(f'\\n{bold_s}#----- Training data\\'s accuracy score on finalized pipeline of MF Purchases: {accuracy:.3f}{bold_e}')\n",
    "\n",
    "#----- Evaluation\n",
    "plt.figure(figsize= (3,2))\n",
    "print(f'{bold_s}#----- Training data\\'s Confusion matrix{bold_e}')\n",
    "sb.heatmap(confusion_matrix(train_y['Sale_MF'], pipeline_pred), annot=True) \n",
    "plt.show()\n"
   ]
  },
  {
   "cell_type": "code",
   "execution_count": 9,
   "id": "9a3ed9b3-2b5c-492d-8174-4b8d39cb4427",
   "metadata": {},
   "outputs": [
    {
     "name": "stdout",
     "output_type": "stream",
     "text": [
      "\n",
      "\u001b[1m#----- Training data's accuracy score on finalized pipeline fo CC Purchases: 1.000\u001b[0m\n",
      "\u001b[1m#----- Training data's Confusion matrix\u001b[0m\n"
     ]
    },
    {
     "data": {
      "image/png": "[encoded data removed]",
      "text/plain": [
       "<Figure size 300x200 with 2 Axes>"
      ]
     },
     "metadata": {},
     "output_type": "display_data"
    }
   ],
   "source": [
    "#----- h. Finalized pipeline -----> To estimate the likelihood of MF purchases\n",
    "\n",
    "fin_pipeline_CC = XGBClassifier(min_child_weight = 2).fit(pca_ss_data, train_y['Sale_CC'])\n",
    "pipeline_pred = fin_pipeline_CC.predict(pca_ss_data)\n",
    "\n",
    "#----- Calculating accuracy score for training data\n",
    "accuracy = fin_pipeline_CC.score(pca_ss_data , train_y['Sale_CC']) \n",
    "print(f'\\n{bold_s}#----- Training data\\'s accuracy score on finalized pipeline of CC Purchases: {accuracy:.3f}{bold_e}')\n",
    "\n",
    "#----- Evaluation\n",
    "plt.figure(figsize= (3,2))\n",
    "print(f'{bold_s}#----- Training data\\'s Confusion matrix{bold_e}')\n",
    "sb.heatmap(confusion_matrix(train_y['Sale_CC'], pipeline_pred), annot=True) \n",
    "plt.show()\n"
   ]
  },
  {
   "cell_type": "code",
   "execution_count": 10,
   "id": "9dd71c12-3e74-4971-84fc-ef32898bb4fd",
   "metadata": {},
   "outputs": [
    {
     "name": "stdout",
     "output_type": "stream",
     "text": [
      "\n",
      "\u001b[1m#----- Training data's accuracy score on finalized pipeline fo CL Purchases: : 1.000\u001b[0m\n",
      "\u001b[1m#----- Training data's Confusion matrix\u001b[0m\n"
     ]
    },
    {
     "data": {
      "image/png": "[encoded data removed]",
      "text/plain": [
       "<Figure size 300x200 with 2 Axes>"
      ]
     },
     "metadata": {},
     "output_type": "display_data"
    }
   ],
   "source": [
    "#----- j. Finalized pipeline -----> To estimate the likelihood of Customer Loan purchases\n",
    "\n",
    "fin_pipeline_CL = XGBClassifier(min_child_weight = 3).fit(pca_ss_data, train_y['Sale_CL'])\n",
    "pipeline_pred = fin_pipeline_CL.predict(pca_ss_data)\n",
    "\n",
    "#----- Calculating accuracy score for training data\n",
    "accuracy = fin_pipeline_CL.score(pca_ss_data , train_y['Sale_CL']) \n",
    "print(f'\\n{bold_s}#----- Training data\\'s accuracy score on finalized pipeline pf CL Purchases: : {accuracy:.3f}{bold_e}')\n",
    "\n",
    "#----- Evaluation\n",
    "plt.figure(figsize= (3,2))\n",
    "print(f'{bold_s}#----- Training data\\'s Confusion matrix{bold_e}')\n",
    "sb.heatmap(confusion_matrix(train_y['Sale_CL'], pipeline_pred), annot=True) \n",
    "plt.show()\n"
   ]
  },
  {
   "cell_type": "markdown",
   "id": "fd66017c-5e53-4569-b910-1865b23ee922",
   "metadata": {},
   "source": [
    "<br><br><br>\n",
    "<h4><b>2.4 Prediction (or) Inference</b></h4>\n",
    "<pre>\n",
    "                  a. Prepping Test datasets\n",
    "                  b. Predicting likelihood for buying Mutual Fund, Credit Card, Consumer loan on test data set\n",
    "                  c. Saving (or) Listing Client_IDs whom have higher likelihood to buy MF, CC, CL\n",
    "</pre>"
   ]
  },
  {
   "cell_type": "code",
   "execution_count": 11,
   "id": "0c5105f4-6c39-44b6-9843-e4e173637fd8",
   "metadata": {},
   "outputs": [
    {
     "name": "stdout",
     "output_type": "stream",
     "text": [
      "\n",
      "\u001b[1m#----- Testing dataset X Shape: (635, 29)\u001b[0m\n"
     ]
    }
   ],
   "source": [
    "#----- a. Prepping test dataaset\n",
    "\n",
    "test_data = pd.read_excel('./test_data.xlsx')\n",
    "\n",
    "#-----  Removing Client from test data\n",
    "client_list = test_data['Client']\n",
    "test_x = test_data.drop(columns = 'Client', axis = 'columns' )\n",
    "\n",
    "print(f'\\n{bold_s}#----- Testing dataset X Shape: {test_x.shape}{bold_e}')\n"
   ]
  },
  {
   "cell_type": "code",
   "execution_count": 12,
   "id": "d5a13b03-d120-43f9-b5a4-ebd2dfcf7314",
   "metadata": {},
   "outputs": [
    {
     "name": "stdout",
     "output_type": "stream",
     "text": [
      "\n",
      "\u001b[1m#----- PCA on StandardScaler applied test data\u001b[0m\n",
      "(#training records, #pca components): (635, 23)\n"
     ]
    }
   ],
   "source": [
    "#-----  Applying finalised pipeline onto the testdata\n",
    "scaled_std_data_test_x = scaler_std.transform(test_x)\n",
    "\n",
    "pca_ss_data_test_x = pca_ss.transform(scaled_std_data_test_x)\n",
    "\n",
    "print(f'\\n{bold_s}#----- PCA on StandardScaler applied test data{bold_e}')\n",
    "print(f'(#training records, #pca components): {pca_ss_data_test_x.shape}')"
   ]
  },
  {
   "cell_type": "code",
   "execution_count": 13,
   "id": "594d90ae-e32f-4fb6-a3c1-fecf52eb1c08",
   "metadata": {},
   "outputs": [
    {
     "name": "stdout",
     "output_type": "stream",
     "text": [
      "\n",
      "\u001b[1m#----- Estimated number of clients to purchase MF : 53\u001b[0m\n",
      "\n",
      "\u001b[1m#----- Estimated number of clients to purchase CC : 100 \u001b[0m\n",
      "\n",
      "\u001b[1m#----- Estimated number of clients to purchase CL : 121 \u001b[0m\n"
     ]
    }
   ],
   "source": [
    "#----- b. Predicting likelihood for buying Mutual Fund, Credit Card, Consumer loan on test data set\n",
    "\n",
    "#----- Prediction for MF purchase \n",
    "predicted_test_MF = fin_pipeline_MF.predict(pca_ss_data_test_x)\n",
    "print(f'\\n{bold_s}#----- Estimated number of clients to purchase MF : {predicted_test_MF.sum()}{bold_e}')\n",
    "\n",
    "#----- Prediction for CC purchase \n",
    "predicted_test_CC = fin_pipeline_CC.predict(pca_ss_data_test_x) \n",
    "print(f'\\n{bold_s}#----- Estimated number of clients to purchase CC : {predicted_test_CC.sum()} {bold_e}')\n",
    "\n",
    "#----- Prediction for CL purchase \n",
    "predicted_test_CL = fin_pipeline_CL.predict(pca_ss_data_test_x)\n",
    "print(f'\\n{bold_s}#----- Estimated number of clients to purchase CL : {predicted_test_CL.sum()} {bold_e}')\n"
   ]
  },
  {
   "cell_type": "code",
   "execution_count": 20,
   "id": "74d75d10-89f2-4222-917b-70b1d0d51069",
   "metadata": {},
   "outputs": [],
   "source": [
    "#------ c. Saving (or) Listing Client_IDs whom have higher likelihood to buy MF, CC, CL\n",
    "\n",
    "client_pred_MF = []\n",
    "for ind,likelihood in enumerate(predicted_test_MF):\n",
    "    if likelihood:\n",
    "        client_pred_MF.append(client_list[ind])\n",
    "\n",
    "client_pred_CC = []\n",
    "for ind,likelihood in enumerate(predicted_test_CC):\n",
    "    if likelihood:\n",
    "        client_pred_CC.append(client_list[ind])\n",
    "\n",
    "client_pred_CL = []\n",
    "for ind,likelihood in enumerate(predicted_test_CL):\n",
    "    if likelihood:\n",
    "        client_pred_CL.append(client_list[ind])\n",
    "\n",
    "with pd.ExcelWriter('./Higher_propensity_client.xlsx') as writer:\n",
    "    \n",
    "    pd.DataFrame(client_pred_MF, columns = ['Client']).to_excel(writer, sheet_name='Mutual_Funds', index = False)\n",
    "    pd.DataFrame(client_pred_CC, columns = ['Client']).to_excel(writer, sheet_name='Credit_Card', index = False)\n",
    "    pd.DataFrame(client_pred_CL, columns = ['Client']).to_excel(writer, sheet_name='Customer_Loan', index = False)\n",
    "    "
   ]
  }
 ],
 "metadata": {
  "kernelspec": {
   "display_name": "Python 3 (ipykernel)",
   "language": "python",
   "name": "python3"
  },
  "language_info": {
   "codemirror_mode": {
    "name": "ipython",
    "version": 3
   },
   "file_extension": ".py",
   "mimetype": "text/x-python",
   "name": "python",
   "nbconvert_exporter": "python",
   "pygments_lexer": "ipython3",
   "version": "3.9.18"
  }
 },
 "nbformat": 4,
 "nbformat_minor": 5
}
